{
 "cells": [
  {
   "cell_type": "code",
   "execution_count": null,
   "id": "8e635478",
   "metadata": {},
   "outputs": [],
   "source": [
    "# Water Consumption Prediction using Neural Networks (LSTM)\n",
    "\n",
    "# 1. Import Libraries\n",
    "import pandas as pd\n",
    "import numpy as np\n",
    "import matplotlib.pyplot as plt\n",
    "\n",
    "from sklearn.preprocessing import MinMaxScaler\n",
    "from tensorflow.keras.models import Sequential\n",
    "from tensorflow.keras.layers import LSTM, Dense, Dropout"
   ]
  },
  {
   "cell_type": "code",
   "execution_count": null,
   "id": "763684bf",
   "metadata": {},
   "outputs": [],
   "source": [
    "\n",
    "# 2. Load Dataset\n",
    "# Example: replace with your CSV file (must contain \"Date\" and \"Water_Consumption\")\n",
    "df = pd.read_csv(\"water_consumption.csv\", parse_dates=[\"Date\"], index_col=\"Date\")\n",
    "\n",
    "# Sort by date\n",
    "df = df.sort_index()\n",
    "\n",
    "# 3. Visualize Data\n",
    "plt.figure(figsize=(12,5))\n",
    "plt.plot(df.index, df[\"Water_Consumption\"], label=\"Water Consumption\")\n",
    "plt.xlabel(\"Date\")\n",
    "plt.ylabel(\"Consumption\")\n",
    "plt.title(\"Water Consumption Over Time\")\n",
    "plt.legend()\n",
    "plt.show()\n",
    "\n",
    "# 4. Preprocess Data\n",
    "scaler = MinMaxScaler(feature_range=(0,1))\n",
    "scaled_data = scaler.fit_transform(df[[\"Water_Consumption\"]])\n",
    "\n",
    "# Define sequence length\n",
    "sequence_length = 30  # using past 30 days to predict next day\n",
    "\n",
    "X, y = [], []\n",
    "for i in range(len(scaled_data) - sequence_length):\n",
    "    X.append(scaled_data[i:i+sequence_length])\n",
    "    y.append(scaled_data[i+sequence_length])\n",
    "\n",
    "X, y = np.array(X), np.array(y)\n",
    "\n",
    "# Train-test split (80% train, 20% test)\n",
    "train_size = int(len(X) * 0.8)\n",
    "X_train, X_test = X[:train_size], X[train_size:]\n",
    "y_train, y_test = y[:train_size], y[train_size:]\n",
    "\n",
    "\n",
    "\n",
    "\n"
   ]
  },
  {
   "cell_type": "code",
   "execution_count": null,
   "id": "3beb7792",
   "metadata": {},
   "outputs": [],
   "source": [
    "# 5. Build LSTM Model\n",
    "model = Sequential()\n",
    "model.add(LSTM(64, return_sequences=True, input_shape=(sequence_length, 1)))\n",
    "model.add(Dropout(0.2))\n",
    "model.add(LSTM(64, return_sequences=False))\n",
    "model.add(Dropout(0.2))\n",
    "model.add(Dense(1))\n",
    "\n",
    "model.compile(optimizer=\"adam\", loss=\"mse\")\n",
    "\n",
    "# 6. Train Model\n",
    "history = model.fit(X_train, y_train, epochs=20, batch_size=32, validation_split=0.1)\n",
    "\n",
    "# 7. Evaluate Model\n",
    "loss = model.evaluate(X_test, y_test)\n",
    "print(\"Test Loss (MSE):\", loss)\n"
   ]
  },
  {
   "cell_type": "code",
   "execution_count": null,
   "id": "6e36aa05",
   "metadata": {},
   "outputs": [],
   "source": [
    "# 8. Make Predictions\n",
    "y_pred = model.predict(X_test)\n",
    "y_pred_rescaled = scaler.inverse_transform(y_pred)\n",
    "y_test_rescaled = scaler.inverse_transform(y_test)"
   ]
  },
  {
   "cell_type": "code",
   "execution_count": null,
   "id": "4d46fe4e",
   "metadata": {},
   "outputs": [],
   "source": [
    "# 9. Plot Predictions vs Actual\n",
    "plt.figure(figsize=(12,5))\n",
    "plt.plot(y_test_rescaled, label=\"Actual\")\n",
    "plt.plot(y_pred_rescaled, label=\"Predicted\")\n",
    "plt.xlabel(\"Time Step\")\n",
    "plt.ylabel(\"Water Consumption\")\n",
    "plt.title(\"Water Consumption Prediction (LSTM)\")\n",
    "plt.legend()\n",
    "plt.show()"
   ]
  }
 ],
 "metadata": {
  "kernelspec": {
   "display_name": "Python 3",
   "language": "python",
   "name": "python3"
  },
  "language_info": {
   "codemirror_mode": {
    "name": "ipython",
    "version": 3
   },
   "file_extension": ".py",
   "mimetype": "text/x-python",
   "name": "python",
   "nbconvert_exporter": "python",
   "pygments_lexer": "ipython3",
   "version": "3.12.2"
  }
 },
 "nbformat": 4,
 "nbformat_minor": 5
}
